{
 "cells": [
  {
   "cell_type": "markdown",
   "id": "f779d7ce",
   "metadata": {},
   "source": [
    "#### 전국일반통행도로표준데이터\n",
    " - 데이터 전처리\n",
    "     * 시도명, 지정사유, 지정연도, 도로폭, 도로차로수, 보차분리여부\n",
    " - 결측치 처리(column 개별기준)\n",
    "     * 지정사유 결측치 -> 결측치를 사유없음으로 대체\n",
    "     * 지정연도 결측치 -> 기준이 명확하지 않으므로 0값으로 대체\n",
    "     * 도로 차로수 -> 전체 평균의 도로차로수값으로 대체\n",
    "     * 보차분리여부 빈값 N으로 대체\n",
    " - 오류치 처리(unit의 차이)\n",
    "     * 시도명 10인 것 강원도로 대체\n",
    " - 이상치 처리 (iqr 사용)\n",
    "     * 도로차로수 -> 60\n",
    " - 전처리 내용 정리\n",
    " "
   ]
  },
  {
   "cell_type": "code",
   "execution_count": 1,
   "id": "bdd26277",
   "metadata": {},
   "outputs": [
    {
     "name": "stdout",
     "output_type": "stream",
     "text": [
      "(2159, 6)\n",
      "시도명        object\n",
      "지정사유       object\n",
      "지정연도      float64\n",
      "도로폭       float64\n",
      "도로차로수     float64\n",
      "보차분리여부     object\n",
      "dtype: object\n"
     ]
    }
   ],
   "source": [
    "import numpy as np\n",
    "import pandas as pd\n",
    "\n",
    "pd_rawdata = pd.read_csv('전국일방통행도로표준데이터.csv',encoding='cp949')\n",
    "\n",
    "col_select = ['시도명','지정사유','지정연도','도로폭','도로차로수','보차분리여부']\n",
    "pd_data = pd_rawdata[col_select]\n",
    "print(pd_data.shape)\n",
    "\n",
    "#pd_data['지정연도'] = pd_data['지정연도'].astype('category')\n",
    "print(pd_data.dtypes)"
   ]
  },
  {
   "cell_type": "code",
   "execution_count": 2,
   "id": "4e22afd4",
   "metadata": {},
   "outputs": [
    {
     "name": "stdout",
     "output_type": "stream",
     "text": [
      "시도명 False\n",
      "지정사유 True\n",
      "지정연도 True\n",
      "도로폭 False\n",
      "도로차로수 True\n",
      "보차분리여부 False\n"
     ]
    }
   ],
   "source": [
    "for e in pd_data:\n",
    "    print(e, pd_data[e].hasnans)\n",
    "    #print(e, pd_data[e].value_counts())"
   ]
  },
  {
   "cell_type": "code",
   "execution_count": 3,
   "id": "1d30c232",
   "metadata": {},
   "outputs": [
    {
     "name": "stderr",
     "output_type": "stream",
     "text": [
      "C:\\Users\\ITPS\\AppData\\Local\\Temp\\ipykernel_6900\\308729748.py:2: SettingWithCopyWarning: \n",
      "A value is trying to be set on a copy of a slice from a DataFrame.\n",
      "Try using .loc[row_indexer,col_indexer] = value instead\n",
      "\n",
      "See the caveats in the documentation: https://pandas.pydata.org/pandas-docs/stable/user_guide/indexing.html#returning-a-view-versus-a-copy\n",
      "  pd_data['시도명'] = pd_data['시도명'].replace('10','강원도')\n",
      "C:\\Users\\ITPS\\AppData\\Local\\Temp\\ipykernel_6900\\308729748.py:5: SettingWithCopyWarning: \n",
      "A value is trying to be set on a copy of a slice from a DataFrame.\n",
      "Try using .loc[row_indexer,col_indexer] = value instead\n",
      "\n",
      "See the caveats in the documentation: https://pandas.pydata.org/pandas-docs/stable/user_guide/indexing.html#returning-a-view-versus-a-copy\n",
      "  pd_data['지정사유'] = pd_data['지정사유'].replace(np.NaN,'사유없음')\n"
     ]
    }
   ],
   "source": [
    "# 시도명 10인 것 강원도로 대체\n",
    "pd_data['시도명'] = pd_data['시도명'].replace('10','강원도')\n",
    "\n",
    "#지정사유 결측치 -> 결측치를 사유없음으로 대체\n",
    "pd_data['지정사유'] = pd_data['지정사유'].replace(np.NaN,'사유없음')"
   ]
  },
  {
   "cell_type": "code",
   "execution_count": 4,
   "id": "ecf426cf",
   "metadata": {},
   "outputs": [
    {
     "name": "stderr",
     "output_type": "stream",
     "text": [
      "C:\\Users\\ITPS\\AppData\\Local\\Temp\\ipykernel_6900\\3768873242.py:3: SettingWithCopyWarning: \n",
      "A value is trying to be set on a copy of a slice from a DataFrame\n",
      "\n",
      "See the caveats in the documentation: https://pandas.pydata.org/pandas-docs/stable/user_guide/indexing.html#returning-a-view-versus-a-copy\n",
      "  pd_data['보차분리여부'].replace(' ','N',inplace = True)\n"
     ]
    }
   ],
   "source": [
    "#* 보차분리여부 빈값 N으로 대체\n",
    "pd_data['보차분리여부'].replace(' ','N',inplace = True)"
   ]
  },
  {
   "cell_type": "code",
   "execution_count": 20,
   "id": "519b7b28",
   "metadata": {},
   "outputs": [
    {
     "name": "stderr",
     "output_type": "stream",
     "text": [
      "C:\\Users\\ITPS\\AppData\\Local\\Temp\\ipykernel_6900\\1319995884.py:2: SettingWithCopyWarning: \n",
      "A value is trying to be set on a copy of a slice from a DataFrame.\n",
      "Try using .loc[row_indexer,col_indexer] = value instead\n",
      "\n",
      "See the caveats in the documentation: https://pandas.pydata.org/pandas-docs/stable/user_guide/indexing.html#returning-a-view-versus-a-copy\n",
      "  pd_data['지정연도'] = pd_data['지정연도'].replace(np.NaN,'0')\n"
     ]
    },
    {
     "data": {
      "text/plain": [
       "0         1609\n",
       "1998.0     110\n",
       "2001.0      65\n",
       "2016.0      63\n",
       "1999.0      41\n",
       "2002.0      39\n",
       "2010.0      24\n",
       "2017.0      19\n",
       "2013.0      17\n",
       "2018.0      16\n",
       "2011.0      15\n",
       "2009.0      14\n",
       "2021.0      12\n",
       "2019.0      11\n",
       "2015.0      11\n",
       "2020.0      10\n",
       "1996.0       9\n",
       "2004.0       9\n",
       "2012.0       9\n",
       "2005.0       9\n",
       "2022.0       8\n",
       "2000.0       8\n",
       "2014.0       8\n",
       "1995.0       5\n",
       "2006.0       4\n",
       "1997.0       4\n",
       "2003.0       3\n",
       "2007.0       3\n",
       "2008.0       3\n",
       "1990.0       1\n",
       "Name: 지정연도, dtype: int64"
      ]
     },
     "execution_count": 20,
     "metadata": {},
     "output_type": "execute_result"
    }
   ],
   "source": [
    "#정연도 결측치 -> 기준이 명확하지 않으므로 0값으로 대체\n",
    "pd_data['지정연도'] = pd_data['지정연도'].replace(np.NaN,'0')\n",
    "pd_data['지정연도'].value_counts()"
   ]
  },
  {
   "cell_type": "code",
   "execution_count": 39,
   "id": "7a9b3830",
   "metadata": {},
   "outputs": [
    {
     "data": {
      "text/plain": [
       "nan"
      ]
     },
     "execution_count": 39,
     "metadata": {},
     "output_type": "execute_result"
    }
   ],
   "source": [
    "# 도로 차로수 60인 값 이상치 처리\n",
    "# filter1 = pd_data['도로차로수'] == 60.0\n",
    "# pd_data[filter1]\n",
    "# pd_data['도로차로수'].replace(60.0,6.0)\n",
    "pd_np = np.array(pd_data['도로차로수'])\n",
    "np.median(pd_np)\n",
    "# print('중앙값:',np.median(pd_np))\n",
    "# print('quantile:',np.quantile(pd_np,[.25,.5,.75]))\n",
    "# q25,q50,q75 = np.quantile(pd_np,[.25,.5,.75])\n",
    "# iqr = q75 - q25\n",
    "# print('iqr:',iqr)"
   ]
  },
  {
   "cell_type": "code",
   "execution_count": 21,
   "id": "ea0fc0a3",
   "metadata": {},
   "outputs": [
    {
     "name": "stdout",
     "output_type": "stream",
     "text": [
      "시도명 False\n",
      "지정사유 False\n",
      "지정연도 False\n",
      "도로폭 False\n",
      "도로차로수 True\n",
      "보차분리여부 False\n"
     ]
    },
    {
     "data": {
      "text/html": [
       "<div>\n",
       "<style scoped>\n",
       "    .dataframe tbody tr th:only-of-type {\n",
       "        vertical-align: middle;\n",
       "    }\n",
       "\n",
       "    .dataframe tbody tr th {\n",
       "        vertical-align: top;\n",
       "    }\n",
       "\n",
       "    .dataframe thead th {\n",
       "        text-align: right;\n",
       "    }\n",
       "</style>\n",
       "<table border=\"1\" class=\"dataframe\">\n",
       "  <thead>\n",
       "    <tr style=\"text-align: right;\">\n",
       "      <th></th>\n",
       "      <th>시도명</th>\n",
       "      <th>지정사유</th>\n",
       "      <th>지정연도</th>\n",
       "      <th>도로폭</th>\n",
       "      <th>도로차로수</th>\n",
       "      <th>보차분리여부</th>\n",
       "    </tr>\n",
       "  </thead>\n",
       "  <tbody>\n",
       "    <tr>\n",
       "      <th>0</th>\n",
       "      <td>경기도</td>\n",
       "      <td>사유없음</td>\n",
       "      <td>0</td>\n",
       "      <td>5.0</td>\n",
       "      <td>1.0</td>\n",
       "      <td>Y</td>\n",
       "    </tr>\n",
       "    <tr>\n",
       "      <th>1</th>\n",
       "      <td>경기도</td>\n",
       "      <td>사유없음</td>\n",
       "      <td>0</td>\n",
       "      <td>5.0</td>\n",
       "      <td>1.0</td>\n",
       "      <td>Y</td>\n",
       "    </tr>\n",
       "    <tr>\n",
       "      <th>2</th>\n",
       "      <td>경기도</td>\n",
       "      <td>사유없음</td>\n",
       "      <td>0</td>\n",
       "      <td>9.0</td>\n",
       "      <td>1.0</td>\n",
       "      <td>Y</td>\n",
       "    </tr>\n",
       "    <tr>\n",
       "      <th>3</th>\n",
       "      <td>경기도</td>\n",
       "      <td>사유없음</td>\n",
       "      <td>0</td>\n",
       "      <td>4.0</td>\n",
       "      <td>1.0</td>\n",
       "      <td>Y</td>\n",
       "    </tr>\n",
       "    <tr>\n",
       "      <th>4</th>\n",
       "      <td>경기도</td>\n",
       "      <td>사유없음</td>\n",
       "      <td>0</td>\n",
       "      <td>4.0</td>\n",
       "      <td>1.0</td>\n",
       "      <td>Y</td>\n",
       "    </tr>\n",
       "    <tr>\n",
       "      <th>...</th>\n",
       "      <td>...</td>\n",
       "      <td>...</td>\n",
       "      <td>...</td>\n",
       "      <td>...</td>\n",
       "      <td>...</td>\n",
       "      <td>...</td>\n",
       "    </tr>\n",
       "    <tr>\n",
       "      <th>2154</th>\n",
       "      <td>경기도</td>\n",
       "      <td>통행원활</td>\n",
       "      <td>0</td>\n",
       "      <td>6.0</td>\n",
       "      <td>1.0</td>\n",
       "      <td>N</td>\n",
       "    </tr>\n",
       "    <tr>\n",
       "      <th>2155</th>\n",
       "      <td>경기도</td>\n",
       "      <td>통행원활</td>\n",
       "      <td>0</td>\n",
       "      <td>6.0</td>\n",
       "      <td>1.0</td>\n",
       "      <td>N</td>\n",
       "    </tr>\n",
       "    <tr>\n",
       "      <th>2156</th>\n",
       "      <td>경기도</td>\n",
       "      <td>통행원활</td>\n",
       "      <td>0</td>\n",
       "      <td>6.0</td>\n",
       "      <td>1.0</td>\n",
       "      <td>N</td>\n",
       "    </tr>\n",
       "    <tr>\n",
       "      <th>2157</th>\n",
       "      <td>경기도</td>\n",
       "      <td>통행원활</td>\n",
       "      <td>0</td>\n",
       "      <td>6.0</td>\n",
       "      <td>1.0</td>\n",
       "      <td>N</td>\n",
       "    </tr>\n",
       "    <tr>\n",
       "      <th>2158</th>\n",
       "      <td>서울특별시</td>\n",
       "      <td>사유없음</td>\n",
       "      <td>0</td>\n",
       "      <td>9.5</td>\n",
       "      <td>1.0</td>\n",
       "      <td>N</td>\n",
       "    </tr>\n",
       "  </tbody>\n",
       "</table>\n",
       "<p>2159 rows × 6 columns</p>\n",
       "</div>"
      ],
      "text/plain": [
       "        시도명  지정사유 지정연도  도로폭  도로차로수 보차분리여부\n",
       "0       경기도  사유없음    0  5.0    1.0      Y\n",
       "1       경기도  사유없음    0  5.0    1.0      Y\n",
       "2       경기도  사유없음    0  9.0    1.0      Y\n",
       "3       경기도  사유없음    0  4.0    1.0      Y\n",
       "4       경기도  사유없음    0  4.0    1.0      Y\n",
       "...     ...   ...  ...  ...    ...    ...\n",
       "2154    경기도  통행원활    0  6.0    1.0      N\n",
       "2155    경기도  통행원활    0  6.0    1.0      N\n",
       "2156    경기도  통행원활    0  6.0    1.0      N\n",
       "2157    경기도  통행원활    0  6.0    1.0      N\n",
       "2158  서울특별시  사유없음    0  9.5    1.0      N\n",
       "\n",
       "[2159 rows x 6 columns]"
      ]
     },
     "execution_count": 21,
     "metadata": {},
     "output_type": "execute_result"
    }
   ],
   "source": [
    "for e in pd_data:\n",
    "    print(e, pd_data[e].hasnans)\n",
    "    \n",
    "pd_data"
   ]
  }
 ],
 "metadata": {
  "kernelspec": {
   "display_name": "Python 3 (ipykernel)",
   "language": "python",
   "name": "python3"
  },
  "language_info": {
   "codemirror_mode": {
    "name": "ipython",
    "version": 3
   },
   "file_extension": ".py",
   "mimetype": "text/x-python",
   "name": "python",
   "nbconvert_exporter": "python",
   "pygments_lexer": "ipython3",
   "version": "3.10.9"
  }
 },
 "nbformat": 4,
 "nbformat_minor": 5
}
