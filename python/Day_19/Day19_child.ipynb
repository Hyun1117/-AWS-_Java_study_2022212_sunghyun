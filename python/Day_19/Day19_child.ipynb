{
 "cells": [
  {
   "cell_type": "markdown",
   "id": "e2052d33",
   "metadata": {},
   "source": [
    "#### 전국어린이보호구역표준데이터\n",
    " * CCTV 설치 대수가 없을 경우, Y이면 1, N이면 0으로 대체\n",
    "- 시설종류별 CCTV 설치여부 카운트 / 대수\n",
    "- 광역시도별, 시설 종류별 카운트\n",
    "- 관할경찰서별 CCTV 설치 대수\n",
    "- CCTV평균 설치 대수\n",
    "- 도로폭/ CCTV 설치 대수 상관도"
   ]
  },
  {
   "cell_type": "code",
   "execution_count": 6,
   "id": "931dc9b6",
   "metadata": {},
   "outputs": [
    {
     "name": "stdout",
     "output_type": "stream",
     "text": [
      "(15056, 8)\n",
      "시설종류         object\n",
      "대상시설명        object\n",
      "소재지도로명주소     object\n",
      "관리기관명        object\n",
      "관할경찰서명       object\n",
      "CCTV설치여부     object\n",
      "CCTV설치대수    float64\n",
      "보호구역도로폭      object\n",
      "dtype: object\n",
      "True    1673\n",
      "Name: CCTV설치대수, dtype: int64\n",
      "True    1701\n",
      "Name: CCTV설치대수, dtype: int64\n"
     ]
    }
   ],
   "source": [
    "import numpy as np\n",
    "import pandas as pd\n",
    "\n",
    "pd_data = pd.read_csv('전국어린이보호구역표준데이터.csv',encoding='cp949')\n",
    "\n",
    "drop_list = ['소재지지번주소','위도','경도','데이터기준일자','제공기관코드','제공기관명']\n",
    "pd_data.drop(drop_list,axis = 1,inplace = True)\n",
    "print(pd_data.shape)\n",
    "print(pd_data.dtypes)\n",
    "# for i in range(pd_data.shape[0]):\n",
    "#     row = pd_data.iloc[i,:]\n",
    "#     if (row['CCTV'] == np.NaN) and (row['교육방법구분']=='온라인'):\n",
    "#         row['교육장소'] = '온라인'\n",
    "pd_data.head()\n",
    "\n",
    "fiter1 = pd_data['CCTV설치대수'].isna()\n",
    "filter_y = pd_data['CCTV설치여부'] == 'Y'\n",
    "filter_n = pd_data['CCTV설치여부'] == 'N'\n",
    "print(pd_data['CCTV설치대수'][filter_y][fiter1].isna().value_counts())\n",
    "print(pd_data['CCTV설치대수'][filter_n][fiter1].isna().value_counts())"
   ]
  },
  {
   "cell_type": "code",
   "execution_count": 37,
   "id": "c3839e91",
   "metadata": {},
   "outputs": [
    {
     "name": "stdout",
     "output_type": "stream",
     "text": [
      "True    15056\n",
      "Name: CCTV설치대수, dtype: int64\n",
      "           CCTV설치대수\n",
      "시설종류               \n",
      "국제학교              0\n",
      "대안학교              0\n",
      "어린이집              0\n",
      "외국인교육기관           0\n",
      "외국인학교             0\n",
      "유치원               0\n",
      "초등학교              0\n",
      "초등학교+어린이집         0\n",
      "특수학교              0\n",
      "학원                0\n",
      "시설종류       CCTV설치여부\n",
      "국제학교       Y              7\n",
      "대안학교       N              6\n",
      "           Y              1\n",
      "어린이집       Y           2216\n",
      "           N           1062\n",
      "외국인교육기관    Y              1\n",
      "외국인학교      Y              7\n",
      "           N              3\n",
      "유치원        Y           3202\n",
      "           N           1347\n",
      "초등학교       Y           6079\n",
      "           N            886\n",
      "초등학교+어린이집  Y              3\n",
      "특수학교       Y            122\n",
      "           N             40\n",
      "학원         Y             49\n",
      "           N             25\n",
      "dtype: int64\n"
     ]
    }
   ],
   "source": [
    "#시설 종류별 CCTV 설치여부 카운트 대수\n",
    "print(pd_data['CCTV설치대수'].isna().value_counts())\n",
    "sub_data1 = pd_data[['시설종류','CCTV설치대수']]\n",
    "sub_data2 = pd_data[['시설종류','CCTV설치여부']]\n",
    "\n",
    "print(sub_data1.groupby('시설종류').sum())\n",
    "print(sub_data2.groupby('시설종류').value_counts())"
   ]
  }
 ],
 "metadata": {
  "kernelspec": {
   "display_name": "Python 3 (ipykernel)",
   "language": "python",
   "name": "python3"
  },
  "language_info": {
   "codemirror_mode": {
    "name": "ipython",
    "version": 3
   },
   "file_extension": ".py",
   "mimetype": "text/x-python",
   "name": "python",
   "nbconvert_exporter": "python",
   "pygments_lexer": "ipython3",
   "version": "3.10.9"
  }
 },
 "nbformat": 4,
 "nbformat_minor": 5
}
