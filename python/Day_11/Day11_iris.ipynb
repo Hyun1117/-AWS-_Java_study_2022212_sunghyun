{
 "cells": [
  {
   "cell_type": "code",
   "execution_count": 47,
   "id": "e3d8145a",
   "metadata": {},
   "outputs": [
    {
     "name": "stdout",
     "output_type": "stream",
     "text": [
      "(150,)\n",
      "[[1.45714286 7.        ]\n",
      " [1.63333333 7.        ]\n",
      " [1.46875    6.5       ]\n",
      " [1.48387097 7.5       ]\n",
      " [1.38888889 7.        ]]\n"
     ]
    }
   ],
   "source": [
    "import pickle\n",
    "import numpy as np\n",
    "import matplotlib.pyplot as plt\n",
    "\n",
    "with open('iris_ndarray.pickle','rb') as f:\n",
    "    iris_np = pickle.load(f)\n",
    "\n",
    "sepal_length = iris_np[:,0]\n",
    "sepal_width = iris_np[:,1]\n",
    "sepal_ratio = sepal_length/sepal_width\n",
    "#print(sepal_ratio)\n",
    "petal_length = iris_np[:,2]\n",
    "petal_width = iris_np[:,3]\n",
    "petal_ratio = petal_length/petal_width\n",
    "#print(petal_ratio)\n",
    "#print(np.divide(iris_np[:,0],iris_np[:,1]))\n",
    "#print(np.divide(iris_np[:,2],iris_np[:,3]))\n",
    "\n",
    "print(sepal_ratio.shape)\n",
    "sepal_ratio_2d = np.expand_dims(sepal_ratio,1)\n",
    "\n",
    "# 축 추가 다른 방법\n",
    "petal_ratio_2d = petal_ratio[:,np.newaxis]\n",
    "\n",
    "\n",
    "concat_result = np.concatenate((sepal_ratio_2d,petal_ratio_2d),axis = 1)\n",
    "print(concat_result[:5])"
   ]
  },
  {
   "cell_type": "code",
   "execution_count": 52,
   "id": "ae40ea5f",
   "metadata": {},
   "outputs": [
    {
     "data": {
      "text/plain": [
       "<matplotlib.collections.PathCollection at 0x140b342f1c0>"
      ]
     },
     "execution_count": 52,
     "metadata": {},
     "output_type": "execute_result"
    },
    {
     "data": {
      "image/png": "[encoded data removed]",
      "text/plain": [
       "<Figure size 640x480 with 1 Axes>"
      ]
     },
     "metadata": {},
     "output_type": "display_data"
    }
   ],
   "source": [
    "_, axe = plt.subplots()\n",
    "#scatter 점으로 표현\n",
    "axe.set_xlim(0,8) #x 값 고정\n",
    "axe.set_ylim(0,3.0)# y 값 고정\n",
    "filter_class0 = iris_np[:,-1] == 0.0\n",
    "iris_np_class0 = iris_np[filter_class0]\n",
    "\n",
    "filter_class1 = iris_np[:,-1] == 1.0\n",
    "iris_np_class1 = iris_np[filter_class1]\n",
    "\n",
    "filter_class2 = iris_np[:,-1] == 2.0\n",
    "iris_np_class2 = iris_np[filter_class2]\n",
    "\n",
    "#print(filter1)\n",
    "axe.scatter(iris_np_class0[:,2],iris_np_class0[:,3]) # class 0만 플롯, bool list를 이용 필터링\n",
    "axe.scatter(iris_np_class1[:,2],iris_np_class1[:,3])\n",
    "axe.scatter(iris_np_class2[:,2],iris_np_class2[:,3])\n",
    "\n",
    "#knn 알고리즘\n",
    "#k-Nearest Neighbor\n"
   ]
  },
  {
   "cell_type": "code",
   "execution_count": 66,
   "id": "1681a7ca",
   "metadata": {},
   "outputs": [
    {
     "name": "stdout",
     "output_type": "stream",
     "text": [
      "150\n"
     ]
    }
   ],
   "source": [
    "def kNN_predict(iris_np_data,petal_length,petal_width): # k = 5\n",
    "    sub_data = iris_np_data[:,2:4]\n",
    "    target_np = np.array([petal_length,petal_width])\n",
    "    \n",
    "    dist = np.sqrt(np.sum((target_np - sub_data)**2,axis = 1))\n",
    "    print(len(dist))\n",
    "    #r1 = np.sqrt((target_np - sub_data)**2)\n",
    "    #print(r1)\n",
    "    \n",
    "kNN_predict(iris_np,5.0,1.5) # 거리가 가장 가까운 5개 샘플기록 반환"
   ]
  }
 ],
 "metadata": {
  "kernelspec": {
   "display_name": "Python 3 (ipykernel)",
   "language": "python",
   "name": "python3"
  },
  "language_info": {
   "codemirror_mode": {
    "name": "ipython",
    "version": 3
   },
   "file_extension": ".py",
   "mimetype": "text/x-python",
   "name": "python",
   "nbconvert_exporter": "python",
   "pygments_lexer": "ipython3",
   "version": "3.10.9"
  }
 },
 "nbformat": 4,
 "nbformat_minor": 5
}
