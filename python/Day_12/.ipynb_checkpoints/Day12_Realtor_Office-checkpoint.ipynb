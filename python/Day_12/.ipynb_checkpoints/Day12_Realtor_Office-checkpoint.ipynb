{
 "cells": [
  {
   "cell_type": "markdown",
   "id": "7faee856",
   "metadata": {},
   "source": [
    "### 전국공인중개사사무소표준데이터\n",
    " - 공인중개사 / 개업공인중개사 비율\n",
    " - 공제미가입 중개사 count, 전체 대비 비율\n",
    " - OO공인중개... 중 흔한 상호면\n",
    " - OO공인중개... 가 아닌것은 따로 저장"
   ]
  },
  {
   "cell_type": "code",
   "execution_count": 9,
   "id": "511ada1c",
   "metadata": {},
   "outputs": [],
   "source": [
    "import mymodule as md"
   ]
  },
  {
   "cell_type": "code",
   "execution_count": 39,
   "id": "239863bc",
   "metadata": {},
   "outputs": [
    {
     "name": "stdout",
     "output_type": "stream",
     "text": [
      "0\n",
      "2\n",
      "7\n"
     ]
    }
   ],
   "source": [
    "csv_data = []\n",
    "with open('전국공인중개사사무소표준데이터.csv') as f:\n",
    "    for line in f:\n",
    "        csv_data.append(line.split(','))\n",
    "print(csv_data[0].index('중개사무소명'))\n",
    "print(csv_data[0].index('개업공인중개사종별구분'))\n",
    "print(csv_data[0].index('공제가입유무'))\n",
    "\n",
    "realtor_list = []\n",
    "deduction_list = []\n",
    "\n",
    "for i in csv_data[1:]:\n",
    "    realtor_list.append(i[2])\n",
    "    deduction_list.append(i[7])"
   ]
  },
  {
   "cell_type": "code",
   "execution_count": null,
   "id": "b45165d5",
   "metadata": {},
   "outputs": [],
   "source": [
    "realtor_set = set(realtor_list)\n",
    "deduction_set = set(deduction_list)\n",
    "\n"
   ]
  }
 ],
 "metadata": {
  "kernelspec": {
   "display_name": "Python 3 (ipykernel)",
   "language": "python",
   "name": "python3"
  },
  "language_info": {
   "codemirror_mode": {
    "name": "ipython",
    "version": 3
   },
   "file_extension": ".py",
   "mimetype": "text/x-python",
   "name": "python",
   "nbconvert_exporter": "python",
   "pygments_lexer": "ipython3",
   "version": "3.10.9"
  }
 },
 "nbformat": 4,
 "nbformat_minor": 5
}
