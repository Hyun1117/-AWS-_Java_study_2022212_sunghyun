{
 "cells": [
  {
   "cell_type": "markdown",
   "id": "9a2514e6",
   "metadata": {},
   "source": [
    "## Kosis 부산광역시 가스사용량\n",
    "\n",
    "- 년도별 도시가스/프로판 판매량 비율\n",
    "\n",
    "- 년도별 도시가스, 년도별 프로판 사용량 상관도\n",
    "\n",
    "- 도시가스\n",
    "  * 년도별 겨울(10,11,12,1,2,3)평균사용량/ 비겨울(4,5,6,7,8,9) 평균사용량\n",
    "  * -> ttest(평균 사용량에 차이가 있는가.)\n",
    "  * 같은 분석을 프로판/부탄 가스를 대상으로도 실행.\n",
    "  \n",
    " "
   ]
  },
  {
   "cell_type": "code",
   "execution_count": 1,
   "id": "b7c781f6",
   "metadata": {},
   "outputs": [],
   "source": [
    "import numpy as np\n",
    "import matplotlib.pyplot as plt\n",
    "\n",
    "def my_split(s):\n",
    "    block_start = False\n",
    "    start_index = 0\n",
    "    ret_list=[]\n",
    "    for i, c in enumerate(s):\n",
    "        if block_start==False:\n",
    "            if c==',':\n",
    "                ret_list.append(s[start_index:i])\n",
    "                start_index=i+1\n",
    "            elif c=='\"':\n",
    "                block_start=True\n",
    "                start_index = i\n",
    "        else:\n",
    "            if c=='\"':\n",
    "                block_start=False\n",
    "    if s[-1]!=',':\n",
    "        ret_list.append(s[start_index:])\n",
    "    return ret_list\n",
    "\n",
    "def split_len(data_list):\n",
    "    len_list=[]\n",
    "    for e in data_list:\n",
    "        len_list.append(len(e))\n",
    "    print(set(len_list))\n",
    "    if len(set(len_list))>1:\n",
    "        for i in set(len_list):\n",
    "            print(i, len_list.count(i))\n",
    "    return set(len_list)"
   ]
  },
  {
   "cell_type": "code",
   "execution_count": 7,
   "id": "3051cc30",
   "metadata": {},
   "outputs": [],
   "source": [
    "csv_data = []\n",
    "with open('가스공급량_20230217170922.csv') as f:\n",
    "    for line in f:\n",
    "        csv_data.append(my_split(line[:-1]))\n",
    "np_data = np.array(csv_data)"
   ]
  },
  {
   "cell_type": "code",
   "execution_count": 8,
   "id": "8666cb7d",
   "metadata": {},
   "outputs": [
    {
     "name": "stdout",
     "output_type": "stream",
     "text": [
      "(0, '\"시점\"')\n",
      "(1, '\"월별(1)\"')\n",
      "(2, '도시가스 (천㎥)')\n",
      "(3, '도시가스 (천㎥)')\n",
      "(4, '프로판 (ton)')\n",
      "(5, '프로판 (ton)')\n",
      "(6, '부탄 (ton)')\n",
      "(7, '부탄 (ton)')\n"
     ]
    }
   ],
   "source": [
    "for e in enumerate(csv_data[0]):\n",
    "    print(e)"
   ]
  },
  {
   "cell_type": "code",
   "execution_count": 58,
   "id": "63b0faab",
   "metadata": {},
   "outputs": [
    {
     "name": "stdout",
     "output_type": "stream",
     "text": [
      "[1111.51729036]\n"
     ]
    }
   ],
   "source": [
    "sub_data = np_data[2:,[0,3,5]]\n",
    "#print(sub_data)\n",
    "val , cnt = np.unique(sub_data[0:,0],return_counts = True)\n",
    "gas_data = sub_data[2:,1].astype(np.float64)\n",
    "fan_data = sub_data[2:,2].astype(np.float64)\n",
    "sum_data = gas_data+fan_data\n",
    "gas_percent = gas_data/sum_data *100\n",
    "fan_percent = fan_data/sum_data *100\n",
    "#print(gas_percent)\n",
    "#print(fan_percent)\n",
    "gas2 = np.expand_dims(gas_percent,1)\n",
    "fan2 = np.expand_dims(fan_percent,1)\n",
    "#print(np.add.reduce(gas2[0:12]))"
   ]
  }
 ],
 "metadata": {
  "kernelspec": {
   "display_name": "Python 3 (ipykernel)",
   "language": "python",
   "name": "python3"
  },
  "language_info": {
   "codemirror_mode": {
    "name": "ipython",
    "version": 3
   },
   "file_extension": ".py",
   "mimetype": "text/x-python",
   "name": "python",
   "nbconvert_exporter": "python",
   "pygments_lexer": "ipython3",
   "version": "3.10.9"
  }
 },
 "nbformat": 4,
 "nbformat_minor": 5
}
